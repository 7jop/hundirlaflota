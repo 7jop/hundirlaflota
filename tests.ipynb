{
 "cells": [
  {
   "cell_type": "code",
   "execution_count": 1507,
   "metadata": {},
   "outputs": [],
   "source": [
    "from variables import *\n",
    "import pprint\n",
    "import random\n",
    "import time\n",
    "import os"
   ]
  },
  {
   "cell_type": "code",
   "execution_count": 1508,
   "metadata": {},
   "outputs": [],
   "source": [
    "def crear_tablero(dimensiones_tablero):\n",
    "    tablero = [[\" \" for i in range(dimensiones_tablero)] for j in range(dimensiones_tablero)]\n",
    "    return tablero"
   ]
  },
  {
   "cell_type": "code",
   "execution_count": 1509,
   "metadata": {},
   "outputs": [
    {
     "data": {
      "text/plain": [
       "[[' ', ' ', ' ', ' ', ' ', ' ', ' ', ' ', ' ', ' '],\n",
       " [' ', ' ', ' ', ' ', ' ', ' ', ' ', ' ', ' ', ' '],\n",
       " [' ', ' ', ' ', ' ', ' ', ' ', ' ', ' ', ' ', ' '],\n",
       " [' ', ' ', ' ', ' ', ' ', ' ', ' ', ' ', ' ', ' '],\n",
       " [' ', ' ', ' ', ' ', ' ', ' ', ' ', ' ', ' ', ' '],\n",
       " [' ', ' ', ' ', ' ', ' ', ' ', ' ', ' ', ' ', ' '],\n",
       " [' ', ' ', ' ', ' ', ' ', ' ', ' ', ' ', ' ', ' '],\n",
       " [' ', ' ', ' ', ' ', ' ', ' ', ' ', ' ', ' ', ' '],\n",
       " [' ', ' ', ' ', ' ', ' ', ' ', ' ', ' ', ' ', ' '],\n",
       " [' ', ' ', ' ', ' ', ' ', ' ', ' ', ' ', ' ', ' ']]"
      ]
     },
     "execution_count": 1509,
     "metadata": {},
     "output_type": "execute_result"
    }
   ],
   "source": [
    "tablero_player=crear_tablero(10)\n",
    "tablero_player"
   ]
  },
  {
   "cell_type": "code",
   "execution_count": 1510,
   "metadata": {},
   "outputs": [],
   "source": [
    "def posicionar_barcos_fijos(tablero):\n",
    "   \n",
    "    tablero[3][3] = 'B'\n",
    "    tablero[4][3] = 'B'\n",
    "    tablero[5][3] = 'B'\n",
    "    tablero[6][3] = 'B'\n",
    "\n",
    "    tablero[1][0] = 'B'\n",
    "    tablero[1][1] = 'B'\n",
    "    tablero[1][2] = 'B'\n",
    "    tablero[1][3] = 'B'"
   ]
  },
  {
   "cell_type": "code",
   "execution_count": 1511,
   "metadata": {},
   "outputs": [],
   "source": [
    "posicionar_barcos_fijos(tablero_player)"
   ]
  },
  {
   "cell_type": "code",
   "execution_count": 1512,
   "metadata": {},
   "outputs": [
    {
     "data": {
      "text/plain": [
       "[[' ', ' ', ' ', ' ', ' ', ' ', ' ', ' ', ' ', ' '],\n",
       " ['B', 'B', 'B', 'B', ' ', ' ', ' ', ' ', ' ', ' '],\n",
       " [' ', ' ', ' ', ' ', ' ', ' ', ' ', ' ', ' ', ' '],\n",
       " [' ', ' ', ' ', 'B', ' ', ' ', ' ', ' ', ' ', ' '],\n",
       " [' ', ' ', ' ', 'B', ' ', ' ', ' ', ' ', ' ', ' '],\n",
       " [' ', ' ', ' ', 'B', ' ', ' ', ' ', ' ', ' ', ' '],\n",
       " [' ', ' ', ' ', 'B', ' ', ' ', ' ', ' ', ' ', ' '],\n",
       " [' ', ' ', ' ', ' ', ' ', ' ', ' ', ' ', ' ', ' '],\n",
       " [' ', ' ', ' ', ' ', ' ', ' ', ' ', ' ', ' ', ' '],\n",
       " [' ', ' ', ' ', ' ', ' ', ' ', ' ', ' ', ' ', ' ']]"
      ]
     },
     "execution_count": 1512,
     "metadata": {},
     "output_type": "execute_result"
    }
   ],
   "source": [
    "tablero_player\n"
   ]
  },
  {
   "cell_type": "code",
   "execution_count": 1513,
   "metadata": {},
   "outputs": [],
   "source": [
    "def conteo(tablero):\n",
    "    \n",
    "    contador=0\n",
    "    for i in range(len(tablero)):\n",
    "        \n",
    "        for j in range(len(tablero)):\n",
    "       \n",
    "            if tablero[i][j]==\"B\":\n",
    "                contador=contador+1\n",
    "                #print(contador)\n",
    "        \n",
    "    return contador"
   ]
  },
  {
   "cell_type": "code",
   "execution_count": null,
   "metadata": {},
   "outputs": [],
   "source": [
    "\n",
    "\n",
    "\n",
    "\n",
    "\n",
    "\n",
    "\n"
   ]
  },
  {
   "cell_type": "code",
   "execution_count": 1514,
   "metadata": {},
   "outputs": [],
   "source": [
    "def disparo_enemigo(tablero,i,j):\n",
    "    acierto=False\n",
    "    print(f\"¡Ataque en fila {[i]}, columna {[j]}\")\n",
    "    if tablero[i][j]==\"B\":\n",
    "        print(\"¡el enemigo nos ha alcanzado!\")\n",
    "        \n",
    "        tablero[i][j]= \"X\"\n",
    "        acierto=True\n",
    "    elif tablero[i][j]== \" \":\n",
    "        print(\"¡el enemigo ha fallado!\")\n",
    "        tablero[i][j]=\"o\"\n",
    "        \n",
    "    else:\n",
    "        print(\"el enemigo está desperdiciando su munición\")\n",
    "    \n",
    "    return conteo(tablero_player), acierto"
   ]
  },
  {
   "cell_type": "code",
   "execution_count": 1515,
   "metadata": {},
   "outputs": [],
   "source": [
    "def visualizar(tablero):\n",
    "    pprint.pprint(tablero)"
   ]
  },
  {
   "cell_type": "code",
   "execution_count": 1518,
   "metadata": {},
   "outputs": [],
   "source": [
    "def turno_maquina(tablero):\n",
    "    while True:\n",
    "\n",
    "        \n",
    "        print(\"¡Disparo enemigo en camino!\")\n",
    "        visualizar(tablero_player)\n",
    "        for i in range(0,3):\n",
    "            print(\".\",end=\"\")\n",
    "            time.sleep(0.75)\n",
    "        time.sleep(0.75)\n",
    "        print(\"\")\n",
    "        i = random.randint(0,9)\n",
    "        j = random.randint(0,9)\n",
    "        #disparo enemigo aleatorio\n",
    "        # print(i,j)\n",
    "\n",
    "        contadorbarcos,acierto  =  disparo_enemigo(tablero_player,i,j)\n",
    "        os.system(\"cls\")\n",
    "        visualizar(tablero_player)\n",
    "        \n",
    "        if not acierto:\n",
    "            break\n",
    "    \n",
    "        \n",
    "        #winning condition:\n",
    "        if contadorbarcos==0:\n",
    "            print(\"x\"*10)\n",
    "            print(\"You lose!\")\n",
    "            print(\"x\"*10)\n",
    "            \n",
    "            break"
   ]
  },
  {
   "cell_type": "code",
   "execution_count": null,
   "metadata": {},
   "outputs": [],
   "source": [
    "turno_maquina(tablero_player)"
   ]
  },
  {
   "cell_type": "code",
   "execution_count": null,
   "metadata": {},
   "outputs": [],
   "source": []
  },
  {
   "cell_type": "code",
   "execution_count": null,
   "metadata": {},
   "outputs": [
    {
     "ename": "ModuleNotFoundError",
     "evalue": "No module named 'emoji'",
     "output_type": "error",
     "traceback": [
      "\u001b[31m---------------------------------------------------------------------------\u001b[39m",
      "\u001b[31mModuleNotFoundError\u001b[39m                       Traceback (most recent call last)",
      "\u001b[36mCell\u001b[39m\u001b[36m \u001b[39m\u001b[32mIn[1520]\u001b[39m\u001b[32m, line 1\u001b[39m\n\u001b[32m----> \u001b[39m\u001b[32m1\u001b[39m \u001b[38;5;28;01mimport\u001b[39;00m\u001b[38;5;250m \u001b[39m\u001b[34;01memoji\u001b[39;00m\n",
      "\u001b[31mModuleNotFoundError\u001b[39m: No module named 'emoji'"
     ]
    }
   ],
   "source": [
    "\n"
   ]
  }
 ],
 "metadata": {
  "kernelspec": {
   "display_name": "Python 3",
   "language": "python",
   "name": "python3"
  },
  "language_info": {
   "codemirror_mode": {
    "name": "ipython",
    "version": 3
   },
   "file_extension": ".py",
   "mimetype": "text/x-python",
   "name": "python",
   "nbconvert_exporter": "python",
   "pygments_lexer": "ipython3",
   "version": "3.11.9"
  }
 },
 "nbformat": 4,
 "nbformat_minor": 2
}
